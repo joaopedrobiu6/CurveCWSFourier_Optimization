{
 "cells": [
  {
   "cell_type": "code",
   "execution_count": 3,
   "metadata": {},
   "outputs": [],
   "source": [
    "import matplotlib.pyplot as plt\n",
    "import numpy as np"
   ]
  },
  {
   "cell_type": "code",
   "execution_count": 4,
   "metadata": {},
   "outputs": [],
   "source": [
    "# IMPORT DATA\n",
    "def Read_Two_Column_File(file_name):\n",
    "    with open(file_name, 'r') as data:\n",
    "        x = []\n",
    "        y = []\n",
    "        for line in data:\n",
    "            p = line.split()\n",
    "            x.append(float(p[0]))\n",
    "            y.append(float(p[1]))\n",
    "\n",
    "    return x, y"
   ]
  },
  {
   "cell_type": "code",
   "execution_count": 5,
   "metadata": {},
   "outputs": [],
   "source": [
    "def minimum(x, y, savename, **kwargs):\n",
    "    #y_index = y.index(min(y))\n",
    "    min_x = x[y.index(min(y))]\n",
    "    min_y = min(y)\n",
    "    \n",
    "    plt.subplots(figsize=(6, 5))\n",
    "    plt.scatter(x , y, color = \"black\", marker=\".\")\n",
    "    plt.tick_params(axis='both', which='major', labelsize=14)\n",
    "    plt.scatter(min_x, min_y, color=\"red\")\n",
    "    plt.axvline(x=min_x, color='r', linestyle='--')\n",
    "    # plt.xlabel(\"Rescaling Factor (RF)\", fontsize=16)\n",
    "    # plt.ylabel(\"Objective Function (J)\", fontsize=16)\n",
    "    plt.xticks(kwargs[\"ticks\"])\n",
    "    plt.savefig(savename, dpi = 1000, bbox_inches = 'tight')\n",
    "\n",
    "    return min_x, min_y\n",
    "\n"
   ]
  },
  {
   "cell_type": "code",
   "execution_count": 6,
   "metadata": {},
   "outputs": [],
   "source": [
    "x1, y1 = Read_Two_Column_File('paper_evn_sweeping_1_circular/data.txt')\n",
    "x2 = []\n",
    "y2 = []\n",
    "for i in range(len(y1)):\n",
    "    if y1[i] < y1[-1]:\n",
    "        x2.append(x1[i])\n",
    "        y2.append(y1[i])\n",
    "\n",
    "# minimum(x2, y2, savename=\"paper_evn_sweeping_1_circular/sweep1.pdf\", ticks=np.linspace(0.0, 0.45, 9, endpoint=False))"
   ]
  },
  {
   "cell_type": "code",
   "execution_count": 7,
   "metadata": {},
   "outputs": [],
   "source": [
    "x2, y2 = Read_Two_Column_File('paper_evn_sweeping_2_circular/data.txt')\n",
    "# minimum(x2, y2, savename=\"paper_evn_sweeping_2_circular/sweep2.pdf\", ticks=np.linspace(0.145, 0.155, 6))"
   ]
  },
  {
   "cell_type": "code",
   "execution_count": 8,
   "metadata": {},
   "outputs": [],
   "source": [
    "from simsopt.geo import CurveXYZFourier, SurfaceRZFourier, curves_to_vtk\n",
    "import numpy as np\n",
    "phi = np.linspace(0, 1, 256, endpoint=True)\n",
    "theta = np.linspace(0, 1, 256, endpoint=True)\n",
    "surface = SurfaceRZFourier(1, True, mpol = 1, ntor = 0, quadpoints_phi=phi, quadpoints_theta=theta)\n",
    "surface.set_dofs([1, 0.37, 0.37])\n",
    "surface.to_vtk(\"torus\", )\n",
    "surface.to_vtk(\"torus\")\n",
    "\n",
    "curve = CurveXYZFourier(50, order=1)\n",
    "curve.set_dofs([1, 0, 0.7, 0, 0, 0, 0, 0.7, 0])\n",
    "curves_to_vtk([curve], \"curve\", close=True)\n"
   ]
  },
  {
   "cell_type": "code",
   "execution_count": 9,
   "metadata": {},
   "outputs": [],
   "source": [
    "ntheta = 50\n",
    "nphi = 42\n",
    "theta_linspace = np.linspace(0, 1, ntheta, endpoint=True)\n",
    "phi_linspace = np.linspace(0, 1, nphi, endpoint=True)\n",
    "wout = 'input.final'"
   ]
  },
  {
   "cell_type": "code",
   "execution_count": 16,
   "metadata": {},
   "outputs": [
    {
     "ename": "TypeError",
     "evalue": "SurfaceRZFourier.__init__() got an unexpected keyword argument 'range'",
     "output_type": "error",
     "traceback": [
      "\u001b[0;31m---------------------------------------------------------------------------\u001b[0m",
      "\u001b[0;31mTypeError\u001b[0m                                 Traceback (most recent call last)",
      "Cell \u001b[0;32mIn[16], line 6\u001b[0m\n\u001b[1;32m      4\u001b[0m s_full \u001b[38;5;241m=\u001b[39m SurfaceRZFourier\u001b[38;5;241m.\u001b[39mfrom_vmec_input(wout, \u001b[38;5;28mrange\u001b[39m\u001b[38;5;241m=\u001b[39m\u001b[38;5;124m\"\u001b[39m\u001b[38;5;124mfull torus\u001b[39m\u001b[38;5;124m\"\u001b[39m, quadpoints_theta\u001b[38;5;241m=\u001b[39mtheta_linspace, quadpoints_phi\u001b[38;5;241m=\u001b[39mphi_linspace_full)\u001b[38;5;66;03m#ntheta=ntheta, nphi=int(nphi*2*s.nfp))\u001b[39;00m\n\u001b[1;32m      5\u001b[0m \u001b[38;5;66;03m# CREATE COIL WINDING SURFACE\u001b[39;00m\n\u001b[0;32m----> 6\u001b[0m cws \u001b[38;5;241m=\u001b[39m \u001b[43mSurfaceRZFourier\u001b[49m\u001b[43m(\u001b[49m\u001b[38;5;28;43mrange\u001b[39;49m\u001b[38;5;241;43m=\u001b[39;49m\u001b[38;5;124;43m\"\u001b[39;49m\u001b[38;5;124;43mhalf torus\u001b[39;49m\u001b[38;5;124;43m\"\u001b[39;49m\u001b[43m)\u001b[49m\n\u001b[1;32m      7\u001b[0m cws_full \u001b[38;5;241m=\u001b[39m SurfaceRZFourier\u001b[38;5;241m.\u001b[39mfrom_nphi_ntheta(\u001b[38;5;28mint\u001b[39m(nphi\u001b[38;5;241m*\u001b[39m\u001b[38;5;241m2\u001b[39m\u001b[38;5;241m*\u001b[39ms\u001b[38;5;241m.\u001b[39mnfp), ntheta, \u001b[38;5;124m\"\u001b[39m\u001b[38;5;124mfull torus\u001b[39m\u001b[38;5;124m\"\u001b[39m, s\u001b[38;5;241m.\u001b[39mnfp)\n",
      "\u001b[0;31mTypeError\u001b[0m: SurfaceRZFourier.__init__() got an unexpected keyword argument 'range'"
     ]
    }
   ],
   "source": [
    "# CREATE FLUX SURFACE (BOUNDARY)\n",
    "s = SurfaceRZFourier.from_vmec_input(wout, range=\"half period\", quadpoints_theta=theta_linspace, quadpoints_phi=phi_linspace)#ntheta=ntheta, nphi=nphi)\n",
    "phi_linspace_full = np.linspace(0, 1, int(nphi*2*s.nfp), endpoint=True)\n",
    "s_full = SurfaceRZFourier.from_vmec_input(wout, range=\"full torus\", quadpoints_theta=theta_linspace, quadpoints_phi=phi_linspace_full)#ntheta=ntheta, nphi=int(nphi*2*s.nfp))\n",
    "# CREATE COIL WINDING SURFACE\n",
    "cws = SurfaceRZFourier(range=\"half torus\")\n",
    "cws_full = SurfaceRZFourier.from_nphi_ntheta(int(nphi*2*s.nfp), ntheta, \"full torus\", s.nfp)"
   ]
  },
  {
   "cell_type": "code",
   "execution_count": null,
   "metadata": {},
   "outputs": [],
   "source": []
  }
 ],
 "metadata": {
  "kernelspec": {
   "display_name": "opt-env",
   "language": "python",
   "name": "python3"
  },
  "language_info": {
   "codemirror_mode": {
    "name": "ipython",
    "version": 3
   },
   "file_extension": ".py",
   "mimetype": "text/x-python",
   "name": "python",
   "nbconvert_exporter": "python",
   "pygments_lexer": "ipython3",
   "version": "3.12.2"
  }
 },
 "nbformat": 4,
 "nbformat_minor": 2
}
