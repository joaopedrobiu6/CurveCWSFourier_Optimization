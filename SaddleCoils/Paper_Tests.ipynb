{
 "cells": [
  {
   "cell_type": "code",
   "execution_count": 1,
   "metadata": {},
   "outputs": [],
   "source": [
    "from simsopt.geo import CurveCWSFourier, SurfaceRZFourier, CurveRZFourier, RotatedCurve\n",
    "import numpy as np  "
   ]
  },
  {
   "cell_type": "code",
   "execution_count": 2,
   "metadata": {},
   "outputs": [],
   "source": [
    "order = 3"
   ]
  },
  {
   "cell_type": "code",
   "execution_count": 3,
   "metadata": {},
   "outputs": [],
   "source": [
    "curve = CurveCWSFourier(mpol=1, ntor=1, idofs=[1, 0.2, 0.2], quadpoints=150, order=order, nfp=1, stellsym=True)"
   ]
  },
  {
   "cell_type": "code",
   "execution_count": 4,
   "metadata": {},
   "outputs": [
    {
     "name": "stdout",
     "output_type": "stream",
     "text": [
      "[0. 0. 0. 0. 0. 0. 0. 0. 0. 0. 0. 0. 0. 0. 0. 0.]\n",
      "[1. 0. 0. 0. 0. 0. 0. 0. 1. 0. 0. 0. 0. 0. 0. 0.]\n",
      "[1. 0. 0. 0. 0. 0. 0. 0. 1. 0. 0. 0. 0. 0. 0. 0.]\n",
      "[1. 0. 0. 0. 0. 0. 0. 0. 1. 0. 0. 0. 0. 0. 0. 0.]\n"
     ]
    }
   ],
   "source": [
    "dofs = np.zeros((curve.dof_size, ))\n",
    "print(dofs)\n",
    "dofs[0] = 1.\n",
    "dofs[2*order + 2] = 1.\n",
    "print(dofs)\n",
    "curve.x = dofs\n",
    "print(curve.x)\n",
    "# curve = RotatedCurve(curve, 0.5, flip=False)\n",
    "print(curve.x)"
   ]
  },
  {
   "cell_type": "code",
   "execution_count": 5,
   "metadata": {},
   "outputs": [],
   "source": [
    "cfc = curve\n",
    "coeffs = cfc.x\n",
    "cfc.invalidate_cache()"
   ]
  },
  {
   "cell_type": "code",
   "execution_count": 6,
   "metadata": {},
   "outputs": [],
   "source": [
    "def taylor_test(f, df, x, epsilons=None, direction=None):\n",
    "    np.random.seed(1)\n",
    "    if direction is None:\n",
    "        direction = np.random.rand(*(x.shape))-0.5\n",
    "    dfx = df(x)@direction\n",
    "    if epsilons is None:\n",
    "        epsilons = np.power(2., -np.asarray(range(7, 20)))\n",
    "    print(\"################################################################################\")\n",
    "    err_old = 1e9\n",
    "    counter = 0\n",
    "    for eps in epsilons:\n",
    "        if counter > 8:\n",
    "            break\n",
    "        fpluseps = f(x + eps * direction)\n",
    "        fminuseps = f(x - eps * direction)\n",
    "        dfest = (fpluseps-fminuseps)/(2*eps)\n",
    "        err = np.linalg.norm(dfest - dfx)\n",
    "        print(err, err/err_old)\n",
    "        \n",
    "        assert err < 1e-9 or err < 0.3 * err_old\n",
    "        if err < 1e-9:\n",
    "            break\n",
    "        err_old = err\n",
    "        counter += 1\n",
    "    if err > 1e-10:\n",
    "        assert counter > 3\n",
    "    print(\"################################################################################\")"
   ]
  },
  {
   "cell_type": "code",
   "execution_count": 7,
   "metadata": {},
   "outputs": [],
   "source": [
    "x = np.array([1. , 0.1, 0. , 0. , 0. , 0.1, 0. , 0. , 0. , 0. , 0. , 0. , 0. , 0. , 0. , 0. ])"
   ]
  },
  {
   "cell_type": "code",
   "execution_count": 8,
   "metadata": {},
   "outputs": [
    {
     "name": "stdout",
     "output_type": "stream",
     "text": [
      "################################################################################\n",
      "0.0773321012684462 7.73321012684462e-11\n",
      "0.019333332922948802 0.2500039777250612\n",
      "0.0048333524564758545 0.2500009944347791\n",
      "0.0012083393147659818 0.2500002484087451\n",
      "0.00030208490746142034 0.25000006518858064\n",
      "7.552123292092953e-05 0.2500000200459351\n",
      "1.8880317007361546e-05 0.2500001162206816\n",
      "4.720072174489882e-06 0.2499996251466275\n",
      "1.1800196805266065e-06 0.25000034679642075\n",
      "################################################################################\n"
     ]
    }
   ],
   "source": [
    "# def f(dofs):\n",
    "#     cfc.x = dofs\n",
    "#     return cfc.gamma().copy()\n",
    "\n",
    "# def df(dofs):\n",
    "#     cfc.x = dofs\n",
    "#     return cfc.dgamma_by_dcoeff().copy()\n",
    "# taylor_test(f, df, coeffs)\n",
    "\n",
    "# def f(dofs):\n",
    "#     cfc.x = dofs\n",
    "#     return cfc.gammadash().copy()\n",
    "\n",
    "# def df(dofs):\n",
    "#     cfc.x = dofs\n",
    "#     return cfc.dgammadash_by_dcoeff().copy()\n",
    "# taylor_test(f, df, coeffs)\n",
    "\n",
    "def f(dofs):\n",
    "    cfc.x = dofs\n",
    "    return cfc.gammadashdash().copy()\n",
    "\n",
    "def df(dofs):\n",
    "    cfc.x = dofs\n",
    "    return cfc.dgammadashdash_by_dcoeff().copy()\n",
    "taylor_test(f, df, x)\n",
    "\n",
    "# def f(dofs):\n",
    "#     cfc.x = dofs\n",
    "#     return cfc.gammadashdashdash().copy()\n",
    "\n",
    "# def df(dofs):\n",
    "#     cfc.x = dofs\n",
    "#     return cfc.dgammadashdashdash_by_dcoeff().copy()\n",
    "# taylor_test(f, df, coeffs)"
   ]
  },
  {
   "cell_type": "code",
   "execution_count": 9,
   "metadata": {},
   "outputs": [],
   "source": [
    "# taylor_test(f, df, x)"
   ]
  },
  {
   "cell_type": "code",
   "execution_count": 10,
   "metadata": {},
   "outputs": [
    {
     "name": "stdout",
     "output_type": "stream",
     "text": [
      "################################################################################\n",
      "44.47314126955532 4.447314126955532e-08\n",
      "44.517239251704694 1.0009915643665037\n"
     ]
    },
    {
     "ename": "AssertionError",
     "evalue": "",
     "output_type": "error",
     "traceback": [
      "\u001b[0;31m---------------------------------------------------------------------------\u001b[0m",
      "\u001b[0;31mAssertionError\u001b[0m                            Traceback (most recent call last)",
      "Cell \u001b[0;32mIn[10], line 9\u001b[0m\n\u001b[1;32m      6\u001b[0m     cfc\u001b[38;5;241m.\u001b[39mx \u001b[38;5;241m=\u001b[39m dofs\n\u001b[1;32m      7\u001b[0m     \u001b[38;5;28;01mreturn\u001b[39;00m cfc\u001b[38;5;241m.\u001b[39mdkappa_by_dcoeff()\u001b[38;5;241m.\u001b[39mcopy()\n\u001b[0;32m----> 9\u001b[0m \u001b[43mtaylor_test\u001b[49m\u001b[43m(\u001b[49m\u001b[43mf\u001b[49m\u001b[43m,\u001b[49m\u001b[43m \u001b[49m\u001b[43mdf\u001b[49m\u001b[43m,\u001b[49m\u001b[43m \u001b[49m\u001b[43mcoeffs\u001b[49m\u001b[43m)\u001b[49m\n",
      "Cell \u001b[0;32mIn[6], line 20\u001b[0m, in \u001b[0;36mtaylor_test\u001b[0;34m(f, df, x, epsilons, direction)\u001b[0m\n\u001b[1;32m     17\u001b[0m err \u001b[38;5;241m=\u001b[39m np\u001b[38;5;241m.\u001b[39mlinalg\u001b[38;5;241m.\u001b[39mnorm(dfest \u001b[38;5;241m-\u001b[39m dfx)\n\u001b[1;32m     18\u001b[0m \u001b[38;5;28mprint\u001b[39m(err, err\u001b[38;5;241m/\u001b[39merr_old)\n\u001b[0;32m---> 20\u001b[0m \u001b[38;5;28;01massert\u001b[39;00m err \u001b[38;5;241m<\u001b[39m \u001b[38;5;241m1e-9\u001b[39m \u001b[38;5;129;01mor\u001b[39;00m err \u001b[38;5;241m<\u001b[39m \u001b[38;5;241m0.3\u001b[39m \u001b[38;5;241m*\u001b[39m err_old\n\u001b[1;32m     21\u001b[0m \u001b[38;5;28;01mif\u001b[39;00m err \u001b[38;5;241m<\u001b[39m \u001b[38;5;241m1e-9\u001b[39m:\n\u001b[1;32m     22\u001b[0m     \u001b[38;5;28;01mbreak\u001b[39;00m\n",
      "\u001b[0;31mAssertionError\u001b[0m: "
     ]
    }
   ],
   "source": [
    "def f(dofs):\n",
    "            cfc.x = dofs\n",
    "            return cfc.kappa().copy()\n",
    "\n",
    "def df(dofs):\n",
    "    cfc.x = dofs\n",
    "    return cfc.dkappa_by_dcoeff().copy()\n",
    "\n",
    "taylor_test(f, df, coeffs)"
   ]
  }
 ],
 "metadata": {
  "kernelspec": {
   "display_name": "base",
   "language": "python",
   "name": "python3"
  },
  "language_info": {
   "codemirror_mode": {
    "name": "ipython",
    "version": 3
   },
   "file_extension": ".py",
   "mimetype": "text/x-python",
   "name": "python",
   "nbconvert_exporter": "python",
   "pygments_lexer": "ipython3",
   "version": "3.12.2"
  }
 },
 "nbformat": 4,
 "nbformat_minor": 2
}
