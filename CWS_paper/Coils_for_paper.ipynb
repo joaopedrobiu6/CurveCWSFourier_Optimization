{
 "cells": [
  {
   "cell_type": "code",
   "execution_count": 75,
   "metadata": {},
   "outputs": [],
   "source": [
    "import os\n",
    "import numpy as np\n",
    "from scipy.optimize import minimize\n",
    "from simsopt.geo import SurfaceRZFourier\n",
    "from simsopt.objectives import SquaredFlux\n",
    "from simsopt.objectives import QuadraticPenalty\n",
    "from simsopt.geo import curves_to_vtk\n",
    "from simsopt.field import BiotSavart, Current, coils_via_symmetries, Coil\n",
    "from simsopt.geo import (\n",
    "    CurveLength, CurveCurveDistance,\n",
    "    MeanSquaredCurvature, LpCurveCurvature, CurveCWSFourier, ArclengthVariation, CurveXYZFourier\n",
    ")\n",
    "\n",
    "import matplotlib.pyplot as plt"
   ]
  },
  {
   "cell_type": "code",
   "execution_count": 76,
   "metadata": {},
   "outputs": [],
   "source": [
    "wout = '../input.axiTorus_nfp3_QA_final'\n",
    "\n",
    "ncoils = 1\n",
    "order = 1 # order of dofs of cws curves\n",
    "quadpoints = 300 #13 * order\n",
    "ntheta = 50\n",
    "nphi = 42\n",
    "ext_via_normal_factor = 0.2565"
   ]
  },
  {
   "cell_type": "code",
   "execution_count": 77,
   "metadata": {},
   "outputs": [],
   "source": [
    "phi = np.linspace(0, 1, 256, endpoint=True)\n",
    "theta = np.linspace(0, 1, 256, endpoint=True)"
   ]
  },
  {
   "cell_type": "code",
   "execution_count": 78,
   "metadata": {},
   "outputs": [],
   "source": [
    "# CREATE COIL WINDING SURFACE SURFACE\n",
    "cws = SurfaceRZFourier.from_vmec_input(wout, range=\"half period\", quadpoints_theta = theta, quadpoints_phi = phi)\n",
    "cws_full = SurfaceRZFourier.from_vmec_input(wout, range=\"full torus\", quadpoints_theta = theta, quadpoints_phi = phi)\n",
    "\n",
    "# cws.extend_via_normal(ext_via_normal_factor)\n",
    "# cws_full.extend_via_normal(ext_via_normal_factor)\n",
    "\n",
    "# CREATE CURVES + COILS     \n",
    "base_curves = []\n",
    "\n",
    "\n",
    "poloidal_curve = CurveCWSFourier(mpol=cws.mpol, ntor=cws.ntor, idofs=cws.x,\n",
    "                                quadpoints=quadpoints, order=order, nfp=cws.nfp, stellsym=cws.stellsym)\n",
    "poloidal_curve.set_dofs([1, 0, 0, 0, 0, 0, 0, 0])\n",
    "base_curves.append(poloidal_curve)\n",
    "\n",
    "saddle_curve = CurveCWSFourier(mpol=cws.mpol, ntor=cws.ntor, idofs=cws.x,\n",
    "                                quadpoints=quadpoints, order=order, nfp=cws.nfp, stellsym=cws.stellsym)\n",
    "saddle_curve.set_dofs([0, np.pi/2, 0.7, 0, 0, np.pi, 0, 0.5])\n",
    "base_curves.append(saddle_curve)"
   ]
  },
  {
   "cell_type": "code",
   "execution_count": 79,
   "metadata": {},
   "outputs": [],
   "source": [
    "OUT_DIR = \"./papercoils/\"\n",
    "os.makedirs(OUT_DIR, exist_ok=True)\n",
    "\n",
    "\n",
    "curves = base_curves\n",
    "curves_to_vtk(curves, OUT_DIR + \"curves_init\", close=True)\n",
    "cws_full.to_vtk(OUT_DIR + \"cws_init\")\n"
   ]
  }
 ],
 "metadata": {
  "kernelspec": {
   "display_name": "base",
   "language": "python",
   "name": "python3"
  },
  "language_info": {
   "codemirror_mode": {
    "name": "ipython",
    "version": 3
   },
   "file_extension": ".py",
   "mimetype": "text/x-python",
   "name": "python",
   "nbconvert_exporter": "python",
   "pygments_lexer": "ipython3",
   "version": "3.12.2"
  }
 },
 "nbformat": 4,
 "nbformat_minor": 2
}
